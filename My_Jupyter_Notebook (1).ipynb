{
 "cells": [
  {
   "cell_type": "markdown",
   "id": "ccf3b890-acaa-4fd2-b2d3-0ac0f362b400",
   "metadata": {},
   "source": [
    "# My Jupyter Notebook"
   ]
  },
  {
   "cell_type": "markdown",
   "id": "69d91b2a-b55e-466b-b57a-8a6c2f785c52",
   "metadata": {},
   "source": [
    "**Diego Sánchez**\n",
    "\n",
    "Student"
   ]
  },
  {
   "cell_type": "markdown",
   "id": "3861e86a-5fec-43dc-b0d7-7ae2a52833fc",
   "metadata": {},
   "source": [
    "*I am interested in data science because I want to know how to use data, in order to save lives*"
   ]
  },
  {
   "cell_type": "markdown",
   "id": "aca57a88-33d0-479f-9286-7107279682c2",
   "metadata": {},
   "source": [
    "### In cell 5, my code is going to execute a mathematical operation trough a function"
   ]
  },
  {
   "cell_type": "code",
   "execution_count": 2,
   "id": "eb5ac11f-3569-409b-82a8-5485fc97879a",
   "metadata": {},
   "outputs": [
    {
     "name": "stdout",
     "output_type": "stream",
     "text": [
      "30\n"
     ]
    }
   ],
   "source": [
    "def mathop(a, b):\n",
    "    result = a * b\n",
    "    return(result)\n",
    "print(mathop(5, 6))"
   ]
  },
  {
   "cell_type": "markdown",
   "id": "a19e6aa9-4843-40a6-a077-05b38ed8dc42",
   "metadata": {},
   "source": [
    "* Beach\n",
    "* Mountain\n",
    "* Caves\n",
    "\n",
    "|Symbol +|Symbol|Result|\n",
    "|------|------|------|\n",
    "|+|+|Positive|\n",
    "|+|-|Negative|\n",
    "|-|+|Negative|\n",
    "|-|-|Positive|\n",
    "\n",
    "<a href=\"https://www.amazon.es/\">Amazon.es</a>"
   ]
  },
  {
   "cell_type": "code",
   "execution_count": null,
   "id": "20bf7400-2522-48ad-a192-fb6f33f3671b",
   "metadata": {},
   "outputs": [],
   "source": []
  }
 ],
 "metadata": {
  "kernelspec": {
   "display_name": "Python",
   "language": "python",
   "name": "conda-env-python-py"
  },
  "language_info": {
   "codemirror_mode": {
    "name": "ipython",
    "version": 3
   },
   "file_extension": ".py",
   "mimetype": "text/x-python",
   "name": "python",
   "nbconvert_exporter": "python",
   "pygments_lexer": "ipython3",
   "version": "3.7.12"
  }
 },
 "nbformat": 4,
 "nbformat_minor": 5
}
