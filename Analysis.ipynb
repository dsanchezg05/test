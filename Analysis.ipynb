{
    "cells": [
        {
            "cell_type": "code",
            "execution_count": 2,
            "metadata": {},
            "outputs": [
                {
                    "data": {
                        "text/plain": "[Row(Nombre='OSCAR', Apellido(s)='ACHUTEGUI FAYOS', FinalRevisada='5.9'),\n Row(Nombre='LOLA', Apellido(s)='ALBACETE SEGURA', FinalRevisada='NA'),\n Row(Nombre='PEDRO', Apellido(s)='ALBENDEA PEREZ', FinalRevisada='6.0'),\n Row(Nombre='VIOLETA', Apellido(s)='ALCALDE ZAPATA', FinalRevisada='NA'),\n Row(Nombre='LAURA', Apellido(s)='ALONSO BARTOLOME', FinalRevisada='7.8')]"
                    },
                    "execution_count": 2,
                    "metadata": {},
                    "output_type": "execute_result"
                }
            ],
            "source": "# The code was removed by Watson Studio for sharing."
        }
    ],
    "metadata": {
        "kernelspec": {
            "display_name": "Python 3.9 with Spark",
            "language": "python3",
            "name": "python39"
        },
        "language_info": {
            "codemirror_mode": {
                "name": "ipython",
                "version": 3
            },
            "file_extension": ".py",
            "mimetype": "text/x-python",
            "name": "python",
            "nbconvert_exporter": "python",
            "pygments_lexer": "ipython3",
            "version": "3.9.7"
        }
    },
    "nbformat": 4,
    "nbformat_minor": 1
}